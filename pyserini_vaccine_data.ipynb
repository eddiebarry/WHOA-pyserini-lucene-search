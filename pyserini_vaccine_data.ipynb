{
 "metadata": {
  "language_info": {
   "codemirror_mode": {
    "name": "ipython",
    "version": 3
   },
   "file_extension": ".py",
   "mimetype": "text/x-python",
   "name": "python",
   "nbconvert_exporter": "python",
   "pygments_lexer": "ipython3",
   "version": "3.8.5-final"
  },
  "orig_nbformat": 2,
  "kernelspec": {
   "name": "python_defaultSpec_1597313868998",
   "display_name": "Python 3.8.5 64-bit ('venv': venv)"
  }
 },
 "nbformat": 4,
 "nbformat_minor": 2,
 "cells": [
  {
   "cell_type": "markdown",
   "metadata": {},
   "source": [
    "# This notebook creates json documents for indexing in pyserini"
   ]
  },
  {
   "cell_type": "code",
   "execution_count": 1,
   "metadata": {},
   "outputs": [],
   "source": [
    "import pandas as pd"
   ]
  },
  {
   "cell_type": "code",
   "execution_count": 2,
   "metadata": {},
   "outputs": [],
   "source": [
    "xls = pd.ExcelFile('Q&A BC Immunize vaccine safety 3 topics ISA.xlsx')\n",
    "\n",
    "df0 = pd.read_excel(xls)\n",
    "df0 = df0.dropna()"
   ]
  },
  {
   "cell_type": "code",
   "execution_count": 3,
   "metadata": {
    "tags": []
   },
   "outputs": [
    {
     "output_type": "stream",
     "name": "stdout",
     "text": "['Adults', 'Chickenpox vaccines', 'Diphtheria', 'General immunization', 'HPV vaccines', 'Hepatitis A vaccine', 'Hepatitis B vaccine', 'Immunization records', 'Infants & young children', 'Influenza vaccines', 'Measles', 'Meningococcal vaccines', 'Other', 'Pneumococcal vaccines', 'Pregnancy', 'Rotavirus Vaccines', 'School-age children & teens', 'Shingles vaccines', 'TB skin test', 'Travel vaccines', 'Vaccine Schedules', 'Vaccine ingredients', 'Vaccine safety', 'Where to get immunized', 'mumps and rubella vaccines', 'tetanus and pertussis vaccines']\n"
    }
   ],
   "source": [
    "all_labels = []\n",
    "for x in df0['Categories'].unique():\n",
    "    all_labels.extend(y.strip() for y in x.split(','))\n",
    "\n",
    "labels = sorted(list(set(all_labels)))\n",
    "print(labels)\n",
    "\n",
    "label_dict = {}\n",
    "for idx, x in enumerate(labels):\n",
    "    label_dict[x]=idx"
   ]
  },
  {
   "cell_type": "code",
   "execution_count": 4,
   "metadata": {},
   "outputs": [],
   "source": [
    "import json \n",
    "\n",
    "path = \"./vaccine_collection\"\n",
    "for idx, row in df0.iterrows():\n",
    "    text_q = row['Question']\n",
    "    text_a = row['Answer']\n",
    "    label  = row['Categories']\n",
    "    new_obj = {\n",
    "                \"text_q\":text_q,\n",
    "                \"text_a\":text_a,\n",
    "                \"label\" : label\n",
    "            }\n",
    "    new_path = os.path.join(path,str(idx)+\".json\")\n",
    "    with open(new_path, 'w') as outfile:\n",
    "        json.dump(new_obj, outfile)"
   ]
  },
  {
   "cell_type": "code",
   "execution_count": 5,
   "metadata": {
    "tags": []
   },
   "outputs": [
    {
     "output_type": "stream",
     "name": "stdout",
     "text": "1 836             1.45960 How often virus of polio, MMR and meningococcal are mutated? How long it to create a new vaccine? How old are vaccines which you used today for vaccination? I mean when was last update them, like a year of charge? What's exactly content in vaccines and what's the risque to take it? Thank you.\n\n\tIt is important to get your vaccine information from reliable sources. This page provides a list of websites where you can find trustworthy, science-based information about vaccines. \n\n\t\tHow often virus of polio, MMR and meningococcal are mutated-It is not clear what you are asking in this question. \n\n\t\tIt can take 10 years or longer for a vaccine to be developed, tested, and finally approved for use by Health Canada. Read more here.\n\n\t\tRefer to the History of Immunization in BC for which vaccines were used at what time in BC's vaccine programs.\n\n\t\tRefer to Health Canada Drug Product Database to find the product monographs and  information on any changes to vaccines approved in Canada.\n\n\t\tThe Canadian Immunization Guide provides a list of all the ingredients of vaccines in Canada.\n\n\t\tAt HealthlinkBC the immunization schedules link to the benefits and possible reactions for each specific vaccine.\nFor further questions or concerns about vaccines, please speak with your health care provider or a nurse at your health unit. Find a location near you here.\nImmuization Nurse\n\n 2 803             1.43900 How often virus of polio, MMR and meningococcal are mutated? How long it to create a new vaccine? How old are vaccines which you used today for vaccination? I mean when was last update them, like a year of charge? What's exactly content in vaccines and what's the risque to take it? Thank you.\n\n\tIt is important to get your vaccine information from reliable sources. This page provides a list of websites where you can find trustworthy, science-based information about vaccines. \n\n\t\tHow often virus of polio, MMR and meningococcal are mutated-It is not clear what you are asking in this question. \n\n\t\tIt can take 10 years or longer for a vaccine to be developed, tested, and finally approved for use by Health Canada. Read more here.\n\n\t\tRefer to the History of Immunization in BC for which vaccines were used at what time in BC's vaccine programs.\n\n\t\tRefer to Health Canada Drug Product Database to find the product monographs and  information on any changes to vaccines approved in Canada.\n\n\t\tThe Canadian Immunization Guide provides a list of all the ingredients of vaccines in Canada.\n\n\t\tAt HealthlinkBC the immunization schedules link to the benefits and possible reactions for each specific vaccine.\nFor further questions or concerns about vaccines, please speak with your health care provider or a nurse at your health unit. Find a location near you here.\nImmuization Nurse\n\n 3 578             1.40840 How often virus of polio, MMR and meningococcal are mutated? How long it to create a new vaccine? How old are vaccines which you used today for vaccination? I mean when was last update them, like a year of charge? What's exactly content in vaccines and what's the risque to take it? Thank you.\n\n\tIt is important to get your vaccine information from reliable sources. This page provides a list of websites where you can find trustworthy, science-based information about vaccines. \n\n\t\tHow often virus of polio, MMR and meningococcal are mutated-It is not clear what you are asking in this question. \n\n\t\tIt can take 10 years or longer for a vaccine to be developed, tested, and finally approved for use by Health Canada. Read more here.\n\n\t\tRefer to the History of Immunization in BC for which vaccines were used at what time in BC's vaccine programs.\n\n\t\tRefer to Health Canada Drug Product Database to find the product monographs and  information on any changes to vaccines approved in Canada.\n\n\t\tThe Canadian Immunization Guide provides a list of all the ingredients of vaccines in Canada.\n\n\t\tAt HealthlinkBC the immunization schedules link to the benefits and possible reactions for each specific vaccine.\nFor further questions or concerns about vaccines, please speak with your health care provider or a nurse at your health unit. Find a location near you here.\nImmuization Nurse\n\n 4 932             1.40580 How often virus of polio, MMR and meningococcal are mutated? How long it to create a new vaccine? How old are vaccines which you used today for vaccination? I mean when was last update them, like a year of charge? What's exactly content in vaccines and what's the risque to take it? Thank you.\n\n\tIt is important to get your vaccine information from reliable sources. This page provides a list of websites where you can find trustworthy, science-based information about vaccines. \n\n\t\tHow often virus of polio, MMR and meningococcal are mutated-It is not clear what you are asking in this question. \n\n\t\tIt can take 10 years or longer for a vaccine to be developed, tested, and finally approved for use by Health Canada. Read more here.\n\n\t\tRefer to the History of Immunization in BC for which vaccines were used at what time in BC's vaccine programs.\n\n\t\tRefer to Health Canada Drug Product Database to find the product monographs and  information on any changes to vaccines approved in Canada.\n\n\t\tThe Canadian Immunization Guide provides a list of all the ingredients of vaccines in Canada.\n\n\t\tAt HealthlinkBC the immunization schedules link to the benefits and possible reactions for each specific vaccine.\nFor further questions or concerns about vaccines, please speak with your health care provider or a nurse at your health unit. Find a location near you here.\nImmuization Nurse\n\n 5 895             1.36730 How often virus of polio, MMR and meningococcal are mutated? How long it to create a new vaccine? How old are vaccines which you used today for vaccination? I mean when was last update them, like a year of charge? What's exactly content in vaccines and what's the risque to take it? Thank you.\n\n\tIt is important to get your vaccine information from reliable sources. This page provides a list of websites where you can find trustworthy, science-based information about vaccines. \n\n\t\tHow often virus of polio, MMR and meningococcal are mutated-It is not clear what you are asking in this question. \n\n\t\tIt can take 10 years or longer for a vaccine to be developed, tested, and finally approved for use by Health Canada. Read more here.\n\n\t\tRefer to the History of Immunization in BC for which vaccines were used at what time in BC's vaccine programs.\n\n\t\tRefer to Health Canada Drug Product Database to find the product monographs and  information on any changes to vaccines approved in Canada.\n\n\t\tThe Canadian Immunization Guide provides a list of all the ingredients of vaccines in Canada.\n\n\t\tAt HealthlinkBC the immunization schedules link to the benefits and possible reactions for each specific vaccine.\nFor further questions or concerns about vaccines, please speak with your health care provider or a nurse at your health unit. Find a location near you here.\nImmuization Nurse\n\n 6 1290            1.36060 How often virus of polio, MMR and meningococcal are mutated? How long it to create a new vaccine? How old are vaccines which you used today for vaccination? I mean when was last update them, like a year of charge? What's exactly content in vaccines and what's the risque to take it? Thank you.\n\n\tIt is important to get your vaccine information from reliable sources. This page provides a list of websites where you can find trustworthy, science-based information about vaccines. \n\n\t\tHow often virus of polio, MMR and meningococcal are mutated-It is not clear what you are asking in this question. \n\n\t\tIt can take 10 years or longer for a vaccine to be developed, tested, and finally approved for use by Health Canada. Read more here.\n\n\t\tRefer to the History of Immunization in BC for which vaccines were used at what time in BC's vaccine programs.\n\n\t\tRefer to Health Canada Drug Product Database to find the product monographs and  information on any changes to vaccines approved in Canada.\n\n\t\tThe Canadian Immunization Guide provides a list of all the ingredients of vaccines in Canada.\n\n\t\tAt HealthlinkBC the immunization schedules link to the benefits and possible reactions for each specific vaccine.\nFor further questions or concerns about vaccines, please speak with your health care provider or a nurse at your health unit. Find a location near you here.\nImmuization Nurse\n\n 7 864             1.35370 How often virus of polio, MMR and meningococcal are mutated? How long it to create a new vaccine? How old are vaccines which you used today for vaccination? I mean when was last update them, like a year of charge? What's exactly content in vaccines and what's the risque to take it? Thank you.\n\n\tIt is important to get your vaccine information from reliable sources. This page provides a list of websites where you can find trustworthy, science-based information about vaccines. \n\n\t\tHow often virus of polio, MMR and meningococcal are mutated-It is not clear what you are asking in this question. \n\n\t\tIt can take 10 years or longer for a vaccine to be developed, tested, and finally approved for use by Health Canada. Read more here.\n\n\t\tRefer to the History of Immunization in BC for which vaccines were used at what time in BC's vaccine programs.\n\n\t\tRefer to Health Canada Drug Product Database to find the product monographs and  information on any changes to vaccines approved in Canada.\n\n\t\tThe Canadian Immunization Guide provides a list of all the ingredients of vaccines in Canada.\n\n\t\tAt HealthlinkBC the immunization schedules link to the benefits and possible reactions for each specific vaccine.\nFor further questions or concerns about vaccines, please speak with your health care provider or a nurse at your health unit. Find a location near you here.\nImmuization Nurse\n\n 8 164             1.34910 How often virus of polio, MMR and meningococcal are mutated? How long it to create a new vaccine? How old are vaccines which you used today for vaccination? I mean when was last update them, like a year of charge? What's exactly content in vaccines and what's the risque to take it? Thank you.\n\n\tIt is important to get your vaccine information from reliable sources. This page provides a list of websites where you can find trustworthy, science-based information about vaccines. \n\n\t\tHow often virus of polio, MMR and meningococcal are mutated-It is not clear what you are asking in this question. \n\n\t\tIt can take 10 years or longer for a vaccine to be developed, tested, and finally approved for use by Health Canada. Read more here.\n\n\t\tRefer to the History of Immunization in BC for which vaccines were used at what time in BC's vaccine programs.\n\n\t\tRefer to Health Canada Drug Product Database to find the product monographs and  information on any changes to vaccines approved in Canada.\n\n\t\tThe Canadian Immunization Guide provides a list of all the ingredients of vaccines in Canada.\n\n\t\tAt HealthlinkBC the immunization schedules link to the benefits and possible reactions for each specific vaccine.\nFor further questions or concerns about vaccines, please speak with your health care provider or a nurse at your health unit. Find a location near you here.\nImmuization Nurse\n\n 9 262             1.34220 How often virus of polio, MMR and meningococcal are mutated? How long it to create a new vaccine? How old are vaccines which you used today for vaccination? I mean when was last update them, like a year of charge? What's exactly content in vaccines and what's the risque to take it? Thank you.\n\n\tIt is important to get your vaccine information from reliable sources. This page provides a list of websites where you can find trustworthy, science-based information about vaccines. \n\n\t\tHow often virus of polio, MMR and meningococcal are mutated-It is not clear what you are asking in this question. \n\n\t\tIt can take 10 years or longer for a vaccine to be developed, tested, and finally approved for use by Health Canada. Read more here.\n\n\t\tRefer to the History of Immunization in BC for which vaccines were used at what time in BC's vaccine programs.\n\n\t\tRefer to Health Canada Drug Product Database to find the product monographs and  information on any changes to vaccines approved in Canada.\n\n\t\tThe Canadian Immunization Guide provides a list of all the ingredients of vaccines in Canada.\n\n\t\tAt HealthlinkBC the immunization schedules link to the benefits and possible reactions for each specific vaccine.\nFor further questions or concerns about vaccines, please speak with your health care provider or a nurse at your health unit. Find a location near you here.\nImmuization Nurse\n\n10 1179            1.33950 How often virus of polio, MMR and meningococcal are mutated? How long it to create a new vaccine? How old are vaccines which you used today for vaccination? I mean when was last update them, like a year of charge? What's exactly content in vaccines and what's the risque to take it? Thank you.\n\n\tIt is important to get your vaccine information from reliable sources. This page provides a list of websites where you can find trustworthy, science-based information about vaccines. \n\n\t\tHow often virus of polio, MMR and meningococcal are mutated-It is not clear what you are asking in this question. \n\n\t\tIt can take 10 years or longer for a vaccine to be developed, tested, and finally approved for use by Health Canada. Read more here.\n\n\t\tRefer to the History of Immunization in BC for which vaccines were used at what time in BC's vaccine programs.\n\n\t\tRefer to Health Canada Drug Product Database to find the product monographs and  information on any changes to vaccines approved in Canada.\n\n\t\tThe Canadian Immunization Guide provides a list of all the ingredients of vaccines in Canada.\n\n\t\tAt HealthlinkBC the immunization schedules link to the benefits and possible reactions for each specific vaccine.\nFor further questions or concerns about vaccines, please speak with your health care provider or a nurse at your health unit. Find a location near you here.\nImmuization Nurse\n\n"
    }
   ],
   "source": [
    "from pyserini.search import SimpleSearcher\n",
    "\n",
    "searcher = SimpleSearcher('./indexes/vaccine_collection_jsonl')\n",
    "hits = searcher.search('what is a vaccine ?')\n",
    "\n",
    "for i in range(len(hits)):\n",
    "    print(f'{i+1:2} {hits[i].docid:15} {hits[i].score:.5f} {hits[0].raw}')"
   ]
  },
  {
   "cell_type": "code",
   "execution_count": 6,
   "metadata": {},
   "outputs": [],
   "source": [
    "class LuceneSearcher:\n",
    "    def __init__(self, path=None):\n",
    "        if path:\n",
    "            self.searcher = SimpleSearcher(path)\n",
    "        else:\n",
    "            self.searcher = SimpleSearcher('./indexes/vaccine_collection_jsonl')\n",
    "    \n",
    "    def print_hits(self, query, k=5):\n",
    "        hits = searcher.search(query, k=k)\n",
    "        for i in range(len(hits)):\n",
    "            print(f'{i+1:2} {query} \\n {hits[i].score:.5f} {hits[i].raw}')\n",
    "    \n",
    "    def return_top_hits(self, query, k=5):\n",
    "        hits = searcher.search(query, k=k)\n",
    "        \n",
    "        ret = []\n",
    "        for i in range(len(hits)):\n",
    "            ret.append([query, hits[i].score, hits[i].raw])\n",
    "\n",
    "        return ret"
   ]
  },
  {
   "cell_type": "code",
   "execution_count": 7,
   "metadata": {
    "tags": []
   },
   "outputs": [
    {
     "output_type": "stream",
     "name": "stdout",
     "text": "1 what vaccines are safe for me if i am pregnant ? \n 7.00290 Is it safe to immunize my 15 month old child with MMR while I am pregnant?\nImmunization of household contacts with the MMR vaccine is safe for pregnant women.  Vaccine viruses in the MMR vaccine are not transmitted to contacts so the vaccine does not pose a risk to a pregnant household member.  The MMR vaccine should be administered to children and other household contacts of pregnant women as recommended.  Ensuring that children and other close contacts are up-to-date with their immunizations can help protect the health of the pregnant woman and her baby.  \n\n 2 what vaccines are safe for me if i am pregnant ? \n 6.11810 I am 25 yrs old. My doctor advised me to get Rubella Vaccine before I plan to get pregnant. Where can I go to get Rubella Vaccine for free of cost in Surrey BC.\nThe rubella vaccine is combined with the measles and mumps vaccine (the MMR vaccine).  You can get the MMR vaccine for free from your local public health unit.  Some pharmacies will also have the free vaccine. Women should avoid becoming pregnant for 1 month after getting the MMR vaccine. \n- Immunization Nurse\n\n 3 what vaccines are safe for me if i am pregnant ? \n 5.81710 I am pregnant and my doctor told me that there is a free pertussis vaccine available, but I don't know where to get it for free. Can I get this through my health unit?\nCanada's National Advisory Committee on Immunization recommends tetanus, diphtheria and pertussis (Tdap) vaccine for pregnant women.  Ideally, this vaccine should be received between 27 and 32 weeks of gestation. This dose is not routinely provided for free in B.C. However, individuals born in 1989 or later who missed their adolescent Tdap booster are eligible for 1 dose of Tdap.  Please call your local health unit and ask to speak to a public health nurse about this. For more information about other vaccines that may be recommended during pregnancy check here.\nImmunization Nurse\n\n 4 what vaccines are safe for me if i am pregnant ? \n 5.59710 Can a pregnant woman get a tetanus shot? What is the cost?\nInactivated vaccines are generally safe in pregnancy. Tetanus is an inactivated vaccine. If a pregnant woman is due for a tetanus shot, there is no cost. The tetanus, diphtheria and pertussis (Tdap) vaccine may be recommended for pregnant women at 26 weeks of pregnancy or later who have not received a dose of pertussis-containing vaccine in adulthood. This dose is not routinely provided for free in B.C. Speak to your health care provider about this. Or, you can call your local community health centre/public health unit and ask to speak to a public health nurse. You can find the number here. You can also find more information about vaccines and pregnancy here.\nImmunization Nurse\n\n 5 what vaccines are safe for me if i am pregnant ? \n 5.47470 I was offered the TDaP by my OB (I'm pregnant) and together we looked up the insert for Adacel (Cdn brand of TDaP) and saw it listed as Pregnancy Category C. Why should I accept the vaccine if the manufacturer itself seems its safety questionable for my baby?\nUnfortunately, we don't know the exact package insert you read and cannot comment regarding the manufacturer's document. However, inactivated vaccines, such as Tdap (Adacel), are generally considered safe in pregnancy.\n\tA number of studies in recent years have shown that the Tdap (tetanus, diphtheria, pertussis) vaccine is safe when given in pregnancy and is effective in preventing whooping cough (pertussis) in newborns. After careful review of these studies, Canada's National Advisory Committee on Immunization recommended that all pregnant women get the pertussis vaccine to help protect the baby after birth. The Society of Obstetricians and Gynecologists of Canada also recommends that all pregnant women get the pertussis vaccine.\n\tThe pertussis vaccine is recommended for pregnant women in many countries, including the U.S, Australia, and New Zealand.\nYou can find more information on vaccines and pregnancy here.\n\t \n \n\n"
    }
   ],
   "source": [
    "srch = LuceneSearcher()\n",
    "\n",
    "srch.print_hits(\"what vaccines are safe for me if i am pregnant ?\")"
   ]
  },
  {
   "cell_type": "code",
   "execution_count": 8,
   "metadata": {
    "tags": [
     "outputPrepend"
    ]
   },
   "outputs": [
    {
     "output_type": "stream",
     "name": "stdout",
     "text": " and this year.Should him still get his second dose of Chickenpox vaccine in grade 6?\nBy herpes on the face, we assume that you mean cold sores. The virus that causes chickenpox (the varicella zoster virus) is a virus of the herpes family but is not the same virus that causes cold sores (cold sores are caused by another virus of the herpes family, the herpes simplex virus). If a child has had cold sores, it is still recommended that they get the chickenpox (varicella) vaccine.\nIt is not necessary for people who have had chickenpox or shingles at 1 year of age or older to get the chickenpox vaccine.\nIf this does not answer your question, please clarify and resubmit your question.  You can also contact your local public health unit and ask to speak with a public health nurse. You can find the contact information for your local public health unit here. \n\n 2  My child has caught a cold. Should we vaccinate ?  \n 6.17410 Hello my daughter has a 18 month immunization tomorrow she taking antibiotics it's ok to do the vaccine\nChildren can usually get vaccinated if they have a mild common illness like a cold, ear infection, or diarrhea.  Mild common illnesses do not interference with the immune response to vaccines and do not increase the risk of adverse events following immunization.  Children taking antibiotics can also receive vaccines as antibiotics do not interfere with the immune response to the vaccine.  If you have questions about whether or not your child should be vaccinated, we recommend that you to speak with your immunizing health care provider.\nImmunization Nurse\n \n\n--------------------------------------------------------------------------------\n 1  My child is sick. Should we continue with the vaccination schedule ? \n 5.20190 My sister-in-law decided not to vaccinate their newborn baby, I work in critical care health and worry that I could make the child sick. What should I do?\nOne of the best things you can do is make sure your vaccinations are up-to-date. This will help prevent you from getting a vaccine-preventable disease and spreading it to the child. You can find a list of vaccines recommended for adults here. It is also important to take general precautions to prevent the spread of disease, such as good handwashing and avoiding contact with others when sick. \nStories about the impact of vaccine-preventable diseases can sometimes help parents better understand the seriousness of these diseases and why vaccines are so important. Voices for Vaccines is a parent-driven organization out of the U.S where parents share their stories about why they have chosen to vaccinate. \nImmunization Nurse \n\n 2  My child is sick. Should we continue with the vaccination schedule ? \n 4.78090 My child was fully immunised overseas and has not had INFANRIX HEXA at 18mths (not offered), my child is now 2. Do we need it or should we wait till 4ys old?\nWe recommend that you contact your local public health unit and ask to speak with a public health nurse.  A public health nurse can review your child's immunization record, recommend and provide any missing vaccines, and ensure your child is up-to-date as per the recommended BC immunization schedule.  You can find the contact information for your local public health unit here.  \n- Immunization Nurse\n\n--------------------------------------------------------------------------------\n********************************************************************************\n 1 I don't remember if I was vaccinated for hep a and b ?  \n 8.65730 Hi- I don't remember if I was vaccinated for hep a and b? Is it safe just to get them if there is a possibility I might been vaccinated 10 years+ ago? \nGetting an extra dose (or doses) of the hepatitis A and B vaccines if your immunization history is unknown is not harmful and ensures protection.\nHowever, you may be able to locate your records. You can find tips for locating immunization records here.\nImmunization Nurse\n\n 2 I don't remember if I was vaccinated for hep a and b ?  \n 7.13360 I got tested for hep a, b & c , I was positive for hep A and had no immunity to hepB and don't have hep C , so if I get twinrex will the hep A be gone from my body .\nThe Hep A vaccine works to prevent infection with the virus, not cure Hep A once you already have it. If you have Hepatitis A (Hep A) virus in your body, do not get the Hep A or Twinrix® vaccines. To find out if the Hepatitis B vaccine series is recommended for you, contact your local health unit or speak with your health care provider. You can learn more about Hep A here .\nImmunization Nurse\n\n--------------------------------------------------------------------------------\n 1  Is it okay to get an additional dose for hepatitis A or B ?  \n 7.39650 My 18 month old accidentally got a fourth dose of Hep B will he be okay?\nPlease speak with the healthcare professional that provided the vaccine, to answer questions specific to your child. You can speak with a nurse at a health unit, use our finder to contact a clinic near you.\nVaccines are very safe. Hepatitis B vaccine is an inactivated vaccine. Inactivated vaccines contain whole or parts of an inactivated (killed) bacteria or viruses and cannot cause the disease they are designed to prevent. In general, it is not harmful to give extra doses of the routine childhood vaccines.  An extra dose stimulates the immune system to be even more protective. For example, babies who are born at high risk of hepatitis B infection receive four doses of the vaccine to ensure they are protected against this disease in BC.\nImmunization Nurse\n\n 2  Is it okay to get an additional dose for hepatitis A or B ?  \n 5.97730 which dtap vaccine do you use for 2 year olds. My daughter needs the dtap plus polio. She has had the HIB vaccine and does not need the hep B at this time. thx\nThe Diphtheria, Tetanus, Pertussis, Polio, Haemophilus influenzae Type b (DTaP-IPV-Hib) Vaccine is the vaccine offered to children under 4 years of age for protection against these diseases (if the hepatitis B vaccine series is already complete). This may provide another dose of the Hib vaccine for your child. It is safe for your child to receive an additional dose of Hib containing vaccine.  Ask your immunizing health care provider to review your daughter's records and recommend the vaccine(s). Use the health unit finder to contact a health nurse.\nImmunization Nurse\n \n \n\n--------------------------------------------------------------------------------\n 1  I was vaccinated twice for hepatitis A. What should i do ?  \n 5.63610 I got vaccinations in school as a child (born 1986) but don't know what they were for. What vaccines were offered through public schools while I attended school? What boosters do I need as an adult today? Am I immunized currently as an adult for tetanus and Hep B?\nTips for locating immunization records are here. According to the History of Immunization in BC, Hepatitis B vaccine was offered in grade 6 in your birth cohort and there was a measles/rubella (MR) vaccine campaign in 1996. \n\n\t\tHepatitis B vaccine. In general, adults who received a complete series in childhood do not require a dose(s) as adults.\n\n\t\tTetanus and Diphtheria (Td) Vaccine. Adults who were immunized against Td when they were younger should get a booster dose of the Td vaccine every 10 years.\nImmunization Nurse\n\n 2  I was vaccinated twice for hepatitis A. What should i do ?  \n 5.48170 My boy 6 month now and in China. there is no DTaP-HB-IPV-Hib +Hepatitis B here but only DTaP-HB-IPV-Hib. Do we need to have another Hepatitis B?he had on shot Hepatitis-b at birth\nThe DTaP-HB-IPV-Hib vaccine that you refer to twice in your question protects against hepatitis B.  The HB stands for hepatitis B. \nAs per BC recommendations, children who get the hepatitis B vaccine at birth still need three more doses of the vaccine at 2, 4 and 6 months of age. These three doses are routinely given as the combination DTaP-HB-IPV-Hib vaccine.  \nIt is important that you keep a record of any immunizations your child receives.\nIf you have further questions, and for more information, we recommend that you follow up with your immunizing health care provider.\n- Immunization Nurse\n\n--------------------------------------------------------------------------------\n 1  My 18 month old accidentally got a fourth dose of Hep B will he be okay ? \n 20.85590 My 18 month old accidentally got a fourth dose of Hep B will he be okay?\nPlease speak with the healthcare professional that provided the vaccine, to answer questions specific to your child. You can speak with a nurse at a health unit, use our finder to contact a clinic near you.\nVaccines are very safe. Hepatitis B vaccine is an inactivated vaccine. Inactivated vaccines contain whole or parts of an inactivated (killed) bacteria or viruses and cannot cause the disease they are designed to prevent. In general, it is not harmful to give extra doses of the routine childhood vaccines.  An extra dose stimulates the immune system to be even more protective. For example, babies who are born at high risk of hepatitis B infection receive four doses of the vaccine to ensure they are protected against this disease in BC.\nImmunization Nurse\n\n 2  My 18 month old accidentally got a fourth dose of Hep B will he be okay ? \n 8.61860 i was late on getting my sons 12 month shots he got them at 15 months. he is now 18 months and i was wondering if he can get his shots now or do we have to wait a couple months\nWe recommend that you contact your local public health unit and ask to speak with a public health nurse.  A public health nurse can review your son's immunization history and tell you the earliest date your son can get his 18 month vaccine(s). There is a minimum interval between doses that must be met in order for the 18th month dose(s) to be considered valid.\nYou can find the cotact information for your local public health unit here.\n- Immunization Nurse\n\n--------------------------------------------------------------------------------\n********************************************************************************\n 1 Is it safe to get a shot while having an allergy to eggs ?  \n 10.60550 Can I get a flu shot if I am allergic to eggs?\nThe National Advisory Committee on Immunization says that people  who are allergic to eggs, including those who have experienced anaphylaxis (life threatening allergy) after eating eggs, can be safely immunized with a full dose of inactivated influenza vaccine (trivalent and quadrivalent). This recommendation is supported by accumulating research that shows it is safe to immunize people who are allergic to eggs using inactivated influenza vaccine. Please contact your local health unit if you have further questions.\nImmunization Nurse\n\n 2 Is it safe to get a shot while having an allergy to eggs ?  \n 10.40890 Is the HPV vaccine suspended in egg white? My daughter is going to have her grade 6 immunization and has an egg allergy. Thanks.\nThe HPV vaccine is safe for a person with an egg allergy. Yeast cells are used in the production of the HPV vaccine not eggs. You can read more about the HPV vaccine here. \nIn Canada, there are minute (very small) amounts of egg proteins in some vaccines, when eggs are are used during the production process (mostly influenza vaccines). In BC, since the 2013/14, egg allergic individuals (including those who have experienced anaphylaxis following egg ingestion) can safely be offered inactivated influenza vaccines.\nImmunization Nurse\n\n--------------------------------------------------------------------------------\n 1  Is it safe to vaccinate someone with an allergy to peanuts ?  \n 11.69180 Is it safe , giving Tetanus Toxoid to someone who is allergic to eggs or peanuts?\nIn Canada, individuals with a history of an anaphylactic (severe life-threatening allergic) reaction to eggs should generally not receive RabAvert® (rabies) or yellow fever (travel related) vaccines. There is no contraindication to receiving vaccines if you have a peanut allergy. A peanut or egg allergy is not a contraindication or precaution to receiving the Tetanus and Diphtheria (Td) Vaccine.\nBefore getting a vaccine, your health care provider will tell you about the contraindications or possible side effects of the vaccine. It's important to be open with your health care provider and ask any questions you have and tell them about any allergies or health conditions.\nImmunization Nurse\n\n 2  Is it safe to vaccinate someone with an allergy to peanuts ?  \n 8.15930 My child is allergic to eggs and also peanuts , can he get the 12 months shot MMR?\nAn egg or peanut allergy is not a contraindication to the Measles, Mumps, Rubella (MMR) Vaccine. Individuals with egg or peanut allergies can receive this vaccine.  \nYour immunizing health care provider will assess for any contraindications prior to administering a vaccine.  If you have quesitons or concerns about your child receiving a vaccine, it is encouraged that you discuss them with your health care provider. \n- Immunization Nurse\n\n--------------------------------------------------------------------------------\n 1  Is it safe , giving Tetanus Toxoid to someone who is allergic to eggs or peanuts ? \n 22.23140 Is it safe , giving Tetanus Toxoid to someone who is allergic to eggs or peanuts?\nIn Canada, individuals with a history of an anaphylactic (severe life-threatening allergic) reaction to eggs should generally not receive RabAvert® (rabies) or yellow fever (travel related) vaccines. There is no contraindication to receiving vaccines if you have a peanut allergy. A peanut or egg allergy is not a contraindication or precaution to receiving the Tetanus and Diphtheria (Td) Vaccine.\nBefore getting a vaccine, your health care provider will tell you about the contraindications or possible side effects of the vaccine. It's important to be open with your health care provider and ask any questions you have and tell them about any allergies or health conditions.\nImmunization Nurse\n\n 2  Is it safe , giving Tetanus Toxoid to someone who is allergic to eggs or peanuts ? \n 11.65770 My child is allergic to eggs and also peanuts , can he get the 12 months shot MMR?\nAn egg or peanut allergy is not a contraindication to the Measles, Mumps, Rubella (MMR) Vaccine. Individuals with egg or peanut allergies can receive this vaccine.  \nYour immunizing health care provider will assess for any contraindications prior to administering a vaccine.  If you have quesitons or concerns about your child receiving a vaccine, it is encouraged that you discuss them with your health care provider. \n- Immunization Nurse\n\n--------------------------------------------------------------------------------\n********************************************************************************\n 1 \nCan I just get the tetanus vaccine for my 4 yr old ?  \n 9.98380 Can I just get the tetanus vaccine for my 4 yr old?\nIn BC, tetanus is provided in the Tetanus, Diphtheria, Pertussis, Polio (Tdap-IPV) vaccine, given as a one dose to children 4-6 years of age. This booster dose strengthens the immune system to give children better protection against these diseases. You can learn more about this vaccine here.\nCombination vaccines are safe. Combination vaccines take two or more vaccines that could be given individually and put them into a single injection, so that children can get protection against several diseases with just one shot. You can learn more about vaccine safety here.\nIf you have questions about the Tdap-IPV vaccine or the safety of combination vaccines for your child, speaking with your immunizing healthcare provider. \nImmunization Nurse\n\n 2 \nCan I just get the tetanus vaccine for my 4 yr old ?  \n 6.18130 where can I go to get a 4 year old and an 11 yr old their shots free so they can get to school\nChildren can get routine immunizations for free at their local public health unit.  You can find the contact information for your local public health unit here. \nAlthough it is recommended that children are up to date with their immunizations prior to attending school, proof of immunization is not required to attend school in BC. \nYou can find the BC routine immunization schedules here. \n- Immunization Nurse\n\n--------------------------------------------------------------------------------\n 1  Can i vacinate my 6 year old with tetanus ?  \n 6.67960 can I receive a tetanus booster without other vacinations? My last one was 2004.\nThe tetanus vaccine is not available on its own.  The tetanus vaccine is combined with other vaccines so a person can receive protection from several diseases with one shot.  Several different vaccines are used to prevent tetanus among infants, children, adolescents and adults.  The vaccine routinely given to adults as a booster dose is the Tetanus and Diphtheria (Td) Vaccine.  \nAdults who were immunized against tetanus and diphtheria when they were younger should get a booster dose of the Td vaccine every 10 years. This booster dose strengthens or boosts the immune system to give better protection against these diseases.  \nYou can find more information about tetanus and tetanus vaccines here. \n- Immunization Nurse \n\n 2  Can i vacinate my 6 year old with tetanus ?  \n 5.59850 Can I just get the tetanus vaccine for my 4 yr old?\nIn BC, tetanus is provided in the Tetanus, Diphtheria, Pertussis, Polio (Tdap-IPV) vaccine, given as a one dose to children 4-6 years of age. This booster dose strengthens the immune system to give children better protection against these diseases. You can learn more about this vaccine here.\nCombination vaccines are safe. Combination vaccines take two or more vaccines that could be given individually and put them into a single injection, so that children can get protection against several diseases with just one shot. You can learn more about vaccine safety here.\nIf you have questions about the Tdap-IPV vaccine or the safety of combination vaccines for your child, speaking with your immunizing healthcare provider. \nImmunization Nurse\n\n--------------------------------------------------------------------------------\n 1  Can i give the tetanus vaccine to my five year old ? \n 6.19810 Can I just get the tetanus vaccine for my 4 yr old?\nIn BC, tetanus is provided in the Tetanus, Diphtheria, Pertussis, Polio (Tdap-IPV) vaccine, given as a one dose to children 4-6 years of age. This booster dose strengthens the immune system to give children better protection against these diseases. You can learn more about this vaccine here.\nCombination vaccines are safe. Combination vaccines take two or more vaccines that could be given individually and put them into a single injection, so that children can get protection against several diseases with just one shot. You can learn more about vaccine safety here.\nIf you have questions about the Tdap-IPV vaccine or the safety of combination vaccines for your child, speaking with your immunizing healthcare provider. \nImmunization Nurse\n\n 2  Can i give the tetanus vaccine to my five year old ? \n 5.63060 can I receive a tetanus booster without other vacinations? My last one was 2004.\nThe tetanus vaccine is not available on its own.  The tetanus vaccine is combined with other vaccines so a person can receive protection from several diseases with one shot.  Several different vaccines are used to prevent tetanus among infants, children, adolescents and adults.  The vaccine routinely given to adults as a booster dose is the Tetanus and Diphtheria (Td) Vaccine.  \nAdults who were immunized against tetanus and diphtheria when they were younger should get a booster dose of the Td vaccine every 10 years. This booster dose strengthens or boosts the immune system to give better protection against these diseases.  \nYou can find more information about tetanus and tetanus vaccines here. \n- Immunization Nurse \n\n--------------------------------------------------------------------------------\n********************************************************************************\n"
    }
   ],
   "source": [
    "xls = pd.ExcelFile(\"./chatbot_data.xlsx\")\n",
    "\n",
    "df = pd.read_excel(xls).dropna()\n",
    "\n",
    "new_array = []\n",
    "for idx, row in df.iterrows():\n",
    "    text_q = row['Question']\n",
    "    new_questions = text_q.split('|')\n",
    "    for x in new_questions:\n",
    "        srch.print_hits(x,k=2)\n",
    "        print('-'*80)\n",
    "    print('*'*80)"
   ]
  },
  {
   "cell_type": "code",
   "execution_count": 9,
   "metadata": {},
   "outputs": [],
   "source": [
    "xls = pd.ExcelFile(\"./chatbot_data.xlsx\")\n",
    "\n",
    "df = pd.read_excel(xls).dropna()\n",
    "\n",
    "new_array = []\n",
    "for idx, row in df.iterrows():\n",
    "    text_q = row['Question']\n",
    "    new_questions = text_q.split('|')\n",
    "    for x in new_questions[1:]:\n",
    "        new_array.extend(srch.return_top_hits(x,k=3))"
   ]
  },
  {
   "cell_type": "code",
   "execution_count": 10,
   "metadata": {},
   "outputs": [],
   "source": [
    "columns = [\"question\", \"score\", \"closest\"]\n",
    "\n",
    "new_df = pd.DataFrame(new_array,columns=columns)\n",
    "\n",
    "new_df.to_csv(\"./text_search_results.csv\")"
   ]
  },
  {
   "cell_type": "code",
   "execution_count": 51,
   "metadata": {},
   "outputs": [],
   "source": [
    "import sys\n",
    "sys.stdout=open(\"closest_preds.txt\",\"w\")\n",
    "\n",
    "xls = pd.ExcelFile(\"./chatbot_data.xlsx\")\n",
    "\n",
    "df = pd.read_excel(xls).dropna()\n",
    "\n",
    "for idx, row in df.iterrows():\n",
    "    text_q = row['Question']\n",
    "    new_questions = text_q.split('|')\n",
    "    for x in new_questions[1:]:\n",
    "        print(srch.return_top_hits(x,k=3))\n",
    "\n",
    "sys.stdout.close()"
   ]
  },
  {
   "cell_type": "code",
   "execution_count": null,
   "metadata": {},
   "outputs": [],
   "source": [
    "lol = 10"
   ]
  },
  {
   "cell_type": "code",
   "execution_count": null,
   "metadata": {},
   "outputs": [],
   "source": []
  }
 ]
}