{
 "metadata": {
  "language_info": {
   "codemirror_mode": {
    "name": "ipython",
    "version": 3
   },
   "file_extension": ".py",
   "mimetype": "text/x-python",
   "name": "python",
   "nbconvert_exporter": "python",
   "pygments_lexer": "ipython3",
   "version": "3.8.5-final"
  },
  "orig_nbformat": 2,
  "kernelspec": {
   "name": "python_defaultSpec_1597313868998",
   "display_name": "Python 3.8.5 64-bit ('venv': venv)"
  }
 },
 "nbformat": 4,
 "nbformat_minor": 2,
 "cells": [
  {
   "cell_type": "markdown",
   "metadata": {},
   "source": [
    "# This notebook creates json documents for indexing in pyserini"
   ]
  },
  {
   "cell_type": "code",
   "execution_count": 1,
   "metadata": {},
   "outputs": [],
   "source": [
    "import pandas as pd"
   ]
  },
  {
   "cell_type": "code",
   "execution_count": 2,
   "metadata": {},
   "outputs": [],
   "source": [
    "xls = pd.ExcelFile('Q&A BC Immunize vaccine safety 3 topics ISA.xlsx')\n",
    "\n",
    "df0 = pd.read_excel(xls)\n",
    "df0 = df0.dropna()"
   ]
  },
  {
   "cell_type": "code",
   "execution_count": 3,
   "metadata": {
    "tags": []
   },
   "outputs": [
    {
     "output_type": "stream",
     "name": "stdout",
     "text": "['Adults', 'Chickenpox vaccines', 'Diphtheria', 'General immunization', 'HPV vaccines', 'Hepatitis A vaccine', 'Hepatitis B vaccine', 'Immunization records', 'Infants & young children', 'Influenza vaccines', 'Measles', 'Meningococcal vaccines', 'Other', 'Pneumococcal vaccines', 'Pregnancy', 'Rotavirus Vaccines', 'School-age children & teens', 'Shingles vaccines', 'TB skin test', 'Travel vaccines', 'Vaccine Schedules', 'Vaccine ingredients', 'Vaccine safety', 'Where to get immunized', 'mumps and rubella vaccines', 'tetanus and pertussis vaccines']\n"
    }
   ],
   "source": [
    "all_labels = []\n",
    "for x in df0['Categories'].unique():\n",
    "    all_labels.extend(y.strip() for y in x.split(','))\n",
    "\n",
    "labels = sorted(list(set(all_labels)))\n",
    "print(labels)\n",
    "\n",
    "label_dict = {}\n",
    "for idx, x in enumerate(labels):\n",
    "    label_dict[x]=idx"
   ]
  },
  {
   "cell_type": "code",
   "execution_count": null,
   "metadata": {},
   "outputs": [],
   "source": [
    "import json \n",
    "\n",
    "path = \"./vaccine_collection\"\n",
    "for idx, row in df0.iterrows():\n",
    "    text_q = row['Question']\n",
    "    text_a = row['Answer']\n",
    "    label  = row['Categories']\n",
    "    new_obj = {\n",
    "                \"text_q\":text_q,\n",
    "                \"text_a\":text_a,\n",
    "                \"label\" : label\n",
    "            }\n",
    "    new_path = os.path.join(path,str(idx)+\".json\")\n",
    "    with open(new_path, 'w') as outfile:\n",
    "        json.dump(new_obj, outfile)"
   ]
  },
  {
   "cell_type": "code",
   "execution_count": 6,
   "metadata": {
    "tags": []
   },
   "outputs": [
    {
     "output_type": "stream",
     "name": "stdout",
     "text": "1 836             1.45960 How often virus of polio, MMR and meningococcal are mutated? How long it to create a new vaccine? How old are vaccines which you used today for vaccination? I mean when was last update them, like a year of charge? What's exactly content in vaccines and what's the risque to take it? Thank you.\n\n\tIt is important to get your vaccine information from reliable sources. This page provides a list of websites where you can find trustworthy, science-based information about vaccines. \n\n\t\tHow often virus of polio, MMR and meningococcal are mutated-It is not clear what you are asking in this question. \n\n\t\tIt can take 10 years or longer for a vaccine to be developed, tested, and finally approved for use by Health Canada. Read more here.\n\n\t\tRefer to the History of Immunization in BC for which vaccines were used at what time in BC's vaccine programs.\n\n\t\tRefer to Health Canada Drug Product Database to find the product monographs and  information on any changes to vaccines approved in Canada.\n\n\t\tThe Canadian Immunization Guide provides a list of all the ingredients of vaccines in Canada.\n\n\t\tAt HealthlinkBC the immunization schedules link to the benefits and possible reactions for each specific vaccine.\nFor further questions or concerns about vaccines, please speak with your health care provider or a nurse at your health unit. Find a location near you here.\nImmuization Nurse\n\n 2 803             1.43900 How often virus of polio, MMR and meningococcal are mutated? How long it to create a new vaccine? How old are vaccines which you used today for vaccination? I mean when was last update them, like a year of charge? What's exactly content in vaccines and what's the risque to take it? Thank you.\n\n\tIt is important to get your vaccine information from reliable sources. This page provides a list of websites where you can find trustworthy, science-based information about vaccines. \n\n\t\tHow often virus of polio, MMR and meningococcal are mutated-It is not clear what you are asking in this question. \n\n\t\tIt can take 10 years or longer for a vaccine to be developed, tested, and finally approved for use by Health Canada. Read more here.\n\n\t\tRefer to the History of Immunization in BC for which vaccines were used at what time in BC's vaccine programs.\n\n\t\tRefer to Health Canada Drug Product Database to find the product monographs and  information on any changes to vaccines approved in Canada.\n\n\t\tThe Canadian Immunization Guide provides a list of all the ingredients of vaccines in Canada.\n\n\t\tAt HealthlinkBC the immunization schedules link to the benefits and possible reactions for each specific vaccine.\nFor further questions or concerns about vaccines, please speak with your health care provider or a nurse at your health unit. Find a location near you here.\nImmuization Nurse\n\n 3 578             1.40840 How often virus of polio, MMR and meningococcal are mutated? How long it to create a new vaccine? How old are vaccines which you used today for vaccination? I mean when was last update them, like a year of charge? What's exactly content in vaccines and what's the risque to take it? Thank you.\n\n\tIt is important to get your vaccine information from reliable sources. This page provides a list of websites where you can find trustworthy, science-based information about vaccines. \n\n\t\tHow often virus of polio, MMR and meningococcal are mutated-It is not clear what you are asking in this question. \n\n\t\tIt can take 10 years or longer for a vaccine to be developed, tested, and finally approved for use by Health Canada. Read more here.\n\n\t\tRefer to the History of Immunization in BC for which vaccines were used at what time in BC's vaccine programs.\n\n\t\tRefer to Health Canada Drug Product Database to find the product monographs and  information on any changes to vaccines approved in Canada.\n\n\t\tThe Canadian Immunization Guide provides a list of all the ingredients of vaccines in Canada.\n\n\t\tAt HealthlinkBC the immunization schedules link to the benefits and possible reactions for each specific vaccine.\nFor further questions or concerns about vaccines, please speak with your health care provider or a nurse at your health unit. Find a location near you here.\nImmuization Nurse\n\n 4 932             1.40580 How often virus of polio, MMR and meningococcal are mutated? How long it to create a new vaccine? How old are vaccines which you used today for vaccination? I mean when was last update them, like a year of charge? What's exactly content in vaccines and what's the risque to take it? Thank you.\n\n\tIt is important to get your vaccine information from reliable sources. This page provides a list of websites where you can find trustworthy, science-based information about vaccines. \n\n\t\tHow often virus of polio, MMR and meningococcal are mutated-It is not clear what you are asking in this question. \n\n\t\tIt can take 10 years or longer for a vaccine to be developed, tested, and finally approved for use by Health Canada. Read more here.\n\n\t\tRefer to the History of Immunization in BC for which vaccines were used at what time in BC's vaccine programs.\n\n\t\tRefer to Health Canada Drug Product Database to find the product monographs and  information on any changes to vaccines approved in Canada.\n\n\t\tThe Canadian Immunization Guide provides a list of all the ingredients of vaccines in Canada.\n\n\t\tAt HealthlinkBC the immunization schedules link to the benefits and possible reactions for each specific vaccine.\nFor further questions or concerns about vaccines, please speak with your health care provider or a nurse at your health unit. Find a location near you here.\nImmuization Nurse\n\n 5 895             1.36730 How often virus of polio, MMR and meningococcal are mutated? How long it to create a new vaccine? How old are vaccines which you used today for vaccination? I mean when was last update them, like a year of charge? What's exactly content in vaccines and what's the risque to take it? Thank you.\n\n\tIt is important to get your vaccine information from reliable sources. This page provides a list of websites where you can find trustworthy, science-based information about vaccines. \n\n\t\tHow often virus of polio, MMR and meningococcal are mutated-It is not clear what you are asking in this question. \n\n\t\tIt can take 10 years or longer for a vaccine to be developed, tested, and finally approved for use by Health Canada. Read more here.\n\n\t\tRefer to the History of Immunization in BC for which vaccines were used at what time in BC's vaccine programs.\n\n\t\tRefer to Health Canada Drug Product Database to find the product monographs and  information on any changes to vaccines approved in Canada.\n\n\t\tThe Canadian Immunization Guide provides a list of all the ingredients of vaccines in Canada.\n\n\t\tAt HealthlinkBC the immunization schedules link to the benefits and possible reactions for each specific vaccine.\nFor further questions or concerns about vaccines, please speak with your health care provider or a nurse at your health unit. Find a location near you here.\nImmuization Nurse\n\n 6 1290            1.36060 How often virus of polio, MMR and meningococcal are mutated? How long it to create a new vaccine? How old are vaccines which you used today for vaccination? I mean when was last update them, like a year of charge? What's exactly content in vaccines and what's the risque to take it? Thank you.\n\n\tIt is important to get your vaccine information from reliable sources. This page provides a list of websites where you can find trustworthy, science-based information about vaccines. \n\n\t\tHow often virus of polio, MMR and meningococcal are mutated-It is not clear what you are asking in this question. \n\n\t\tIt can take 10 years or longer for a vaccine to be developed, tested, and finally approved for use by Health Canada. Read more here.\n\n\t\tRefer to the History of Immunization in BC for which vaccines were used at what time in BC's vaccine programs.\n\n\t\tRefer to Health Canada Drug Product Database to find the product monographs and  information on any changes to vaccines approved in Canada.\n\n\t\tThe Canadian Immunization Guide provides a list of all the ingredients of vaccines in Canada.\n\n\t\tAt HealthlinkBC the immunization schedules link to the benefits and possible reactions for each specific vaccine.\nFor further questions or concerns about vaccines, please speak with your health care provider or a nurse at your health unit. Find a location near you here.\nImmuization Nurse\n\n 7 864             1.35370 How often virus of polio, MMR and meningococcal are mutated? How long it to create a new vaccine? How old are vaccines which you used today for vaccination? I mean when was last update them, like a year of charge? What's exactly content in vaccines and what's the risque to take it? Thank you.\n\n\tIt is important to get your vaccine information from reliable sources. This page provides a list of websites where you can find trustworthy, science-based information about vaccines. \n\n\t\tHow often virus of polio, MMR and meningococcal are mutated-It is not clear what you are asking in this question. \n\n\t\tIt can take 10 years or longer for a vaccine to be developed, tested, and finally approved for use by Health Canada. Read more here.\n\n\t\tRefer to the History of Immunization in BC for which vaccines were used at what time in BC's vaccine programs.\n\n\t\tRefer to Health Canada Drug Product Database to find the product monographs and  information on any changes to vaccines approved in Canada.\n\n\t\tThe Canadian Immunization Guide provides a list of all the ingredients of vaccines in Canada.\n\n\t\tAt HealthlinkBC the immunization schedules link to the benefits and possible reactions for each specific vaccine.\nFor further questions or concerns about vaccines, please speak with your health care provider or a nurse at your health unit. Find a location near you here.\nImmuization Nurse\n\n 8 164             1.34910 How often virus of polio, MMR and meningococcal are mutated? How long it to create a new vaccine? How old are vaccines which you used today for vaccination? I mean when was last update them, like a year of charge? What's exactly content in vaccines and what's the risque to take it? Thank you.\n\n\tIt is important to get your vaccine information from reliable sources. This page provides a list of websites where you can find trustworthy, science-based information about vaccines. \n\n\t\tHow often virus of polio, MMR and meningococcal are mutated-It is not clear what you are asking in this question. \n\n\t\tIt can take 10 years or longer for a vaccine to be developed, tested, and finally approved for use by Health Canada. Read more here.\n\n\t\tRefer to the History of Immunization in BC for which vaccines were used at what time in BC's vaccine programs.\n\n\t\tRefer to Health Canada Drug Product Database to find the product monographs and  information on any changes to vaccines approved in Canada.\n\n\t\tThe Canadian Immunization Guide provides a list of all the ingredients of vaccines in Canada.\n\n\t\tAt HealthlinkBC the immunization schedules link to the benefits and possible reactions for each specific vaccine.\nFor further questions or concerns about vaccines, please speak with your health care provider or a nurse at your health unit. Find a location near you here.\nImmuization Nurse\n\n 9 262             1.34220 How often virus of polio, MMR and meningococcal are mutated? How long it to create a new vaccine? How old are vaccines which you used today for vaccination? I mean when was last update them, like a year of charge? What's exactly content in vaccines and what's the risque to take it? Thank you.\n\n\tIt is important to get your vaccine information from reliable sources. This page provides a list of websites where you can find trustworthy, science-based information about vaccines. \n\n\t\tHow often virus of polio, MMR and meningococcal are mutated-It is not clear what you are asking in this question. \n\n\t\tIt can take 10 years or longer for a vaccine to be developed, tested, and finally approved for use by Health Canada. Read more here.\n\n\t\tRefer to the History of Immunization in BC for which vaccines were used at what time in BC's vaccine programs.\n\n\t\tRefer to Health Canada Drug Product Database to find the product monographs and  information on any changes to vaccines approved in Canada.\n\n\t\tThe Canadian Immunization Guide provides a list of all the ingredients of vaccines in Canada.\n\n\t\tAt HealthlinkBC the immunization schedules link to the benefits and possible reactions for each specific vaccine.\nFor further questions or concerns about vaccines, please speak with your health care provider or a nurse at your health unit. Find a location near you here.\nImmuization Nurse\n\n10 1179            1.33950 How often virus of polio, MMR and meningococcal are mutated? How long it to create a new vaccine? How old are vaccines which you used today for vaccination? I mean when was last update them, like a year of charge? What's exactly content in vaccines and what's the risque to take it? Thank you.\n\n\tIt is important to get your vaccine information from reliable sources. This page provides a list of websites where you can find trustworthy, science-based information about vaccines. \n\n\t\tHow often virus of polio, MMR and meningococcal are mutated-It is not clear what you are asking in this question. \n\n\t\tIt can take 10 years or longer for a vaccine to be developed, tested, and finally approved for use by Health Canada. Read more here.\n\n\t\tRefer to the History of Immunization in BC for which vaccines were used at what time in BC's vaccine programs.\n\n\t\tRefer to Health Canada Drug Product Database to find the product monographs and  information on any changes to vaccines approved in Canada.\n\n\t\tThe Canadian Immunization Guide provides a list of all the ingredients of vaccines in Canada.\n\n\t\tAt HealthlinkBC the immunization schedules link to the benefits and possible reactions for each specific vaccine.\nFor further questions or concerns about vaccines, please speak with your health care provider or a nurse at your health unit. Find a location near you here.\nImmuization Nurse\n\n"
    }
   ],
   "source": [
    "from pyserini.search import SimpleSearcher\n",
    "\n",
    "searcher = SimpleSearcher('./indexes/vaccine_collection_jsonl')\n",
    "hits = searcher.search('what is a vaccine ?')\n",
    "\n",
    "for i in range(len(hits)):\n",
    "    print(f'{i+1:2} {hits[i].docid:15} {hits[i].score:.5f} {hits[0].raw}')"
   ]
  },
  {
   "cell_type": "code",
   "execution_count": 12,
   "metadata": {},
   "outputs": [],
   "source": [
    "class LuceneSearcher:\n",
    "    def __init__(self, path=None):\n",
    "        if path:\n",
    "            self.searcher = SimpleSearcher(path)\n",
    "        else:\n",
    "            self.searcher = SimpleSearcher('./indexes/vaccine_collection_jsonl')\n",
    "    \n",
    "    def print_hits(self, query):\n",
    "        hits = searcher.search(query, k=5\")\n",
    "        for i in range(len(hits)):\n",
    "            print(f'{i+1:2} {hits[i].docid:15} {hits[i].score:.5f} {hits[i].raw}')"
   ]
  },
  {
   "cell_type": "code",
   "execution_count": 13,
   "metadata": {
    "tags": []
   },
   "outputs": [
    {
     "output_type": "stream",
     "name": "stdout",
     "text": "1 5               7.00290 Is it safe to immunize my 15 month old child with MMR while I am pregnant?\nImmunization of household contacts with the MMR vaccine is safe for pregnant women.  Vaccine viruses in the MMR vaccine are not transmitted to contacts so the vaccine does not pose a risk to a pregnant household member.  The MMR vaccine should be administered to children and other household contacts of pregnant women as recommended.  Ensuring that children and other close contacts are up-to-date with their immunizations can help protect the health of the pregnant woman and her baby.  \n\n 2 286             6.11810 I am 25 yrs old. My doctor advised me to get Rubella Vaccine before I plan to get pregnant. Where can I go to get Rubella Vaccine for free of cost in Surrey BC.\nThe rubella vaccine is combined with the measles and mumps vaccine (the MMR vaccine).  You can get the MMR vaccine for free from your local public health unit.  Some pharmacies will also have the free vaccine. Women should avoid becoming pregnant for 1 month after getting the MMR vaccine. \n- Immunization Nurse\n\n 3 470             5.81710 I am pregnant and my doctor told me that there is a free pertussis vaccine available, but I don't know where to get it for free. Can I get this through my health unit?\nCanada's National Advisory Committee on Immunization recommends tetanus, diphtheria and pertussis (Tdap) vaccine for pregnant women.  Ideally, this vaccine should be received between 27 and 32 weeks of gestation. This dose is not routinely provided for free in B.C. However, individuals born in 1989 or later who missed their adolescent Tdap booster are eligible for 1 dose of Tdap.  Please call your local health unit and ask to speak to a public health nurse about this. For more information about other vaccines that may be recommended during pregnancy check here.\nImmunization Nurse\n\n 4 446             5.59710 Can a pregnant woman get a tetanus shot? What is the cost?\nInactivated vaccines are generally safe in pregnancy. Tetanus is an inactivated vaccine. If a pregnant woman is due for a tetanus shot, there is no cost. The tetanus, diphtheria and pertussis (Tdap) vaccine may be recommended for pregnant women at 26 weeks of pregnancy or later who have not received a dose of pertussis-containing vaccine in adulthood. This dose is not routinely provided for free in B.C. Speak to your health care provider about this. Or, you can call your local community health centre/public health unit and ask to speak to a public health nurse. You can find the number here. You can also find more information about vaccines and pregnancy here.\nImmunization Nurse\n\n 5 1168            5.47470 I was offered the TDaP by my OB (I'm pregnant) and together we looked up the insert for Adacel (Cdn brand of TDaP) and saw it listed as Pregnancy Category C. Why should I accept the vaccine if the manufacturer itself seems its safety questionable for my baby?\nUnfortunately, we don't know the exact package insert you read and cannot comment regarding the manufacturer's document. However, inactivated vaccines, such as Tdap (Adacel), are generally considered safe in pregnancy.\n\tA number of studies in recent years have shown that the Tdap (tetanus, diphtheria, pertussis) vaccine is safe when given in pregnancy and is effective in preventing whooping cough (pertussis) in newborns. After careful review of these studies, Canada's National Advisory Committee on Immunization recommended that all pregnant women get the pertussis vaccine to help protect the baby after birth. The Society of Obstetricians and Gynecologists of Canada also recommends that all pregnant women get the pertussis vaccine.\n\tThe pertussis vaccine is recommended for pregnant women in many countries, including the U.S, Australia, and New Zealand.\nYou can find more information on vaccines and pregnancy here.\n\t \n \n\n"
    }
   ],
   "source": [
    "srch = LuceneSearcher()\n",
    "\n",
    "srch.print_hits(\"what vaccines are safe for me if i am pregnant ?\")"
   ]
  },
  {
   "cell_type": "code",
   "execution_count": null,
   "metadata": {},
   "outputs": [],
   "source": [
    "xls = pd.ExcelFile()\n",
    "\n",
    "df0 = pd.read_excel(xls)\n",
    "df0 = df0.dropna()"
   ]
  }
 ]
}